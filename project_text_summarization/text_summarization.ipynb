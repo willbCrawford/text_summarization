{
 "cells": [
  {
   "cell_type": "code",
   "execution_count": 2,
   "metadata": {},
   "outputs": [
    {
     "ename": "ModuleNotFoundError",
     "evalue": "No module named 'spacy'",
     "output_type": "error",
     "traceback": [
      "\u001b[0;31m---------------------------------------------------------------------------\u001b[0m",
      "\u001b[0;31mModuleNotFoundError\u001b[0m                       Traceback (most recent call last)",
      "\u001b[0;32m<ipython-input-2-f4921dfda30b>\u001b[0m in \u001b[0;36m<module>\u001b[0;34m\u001b[0m\n\u001b[1;32m      1\u001b[0m \u001b[0;32mimport\u001b[0m \u001b[0mnumpy\u001b[0m \u001b[0;32mas\u001b[0m \u001b[0mnp\u001b[0m \u001b[0;31m# linear algebra\u001b[0m\u001b[0;34m\u001b[0m\u001b[0;34m\u001b[0m\u001b[0m\n\u001b[0;32m----> 2\u001b[0;31m \u001b[0;32mimport\u001b[0m \u001b[0mspacy\u001b[0m\u001b[0;34m\u001b[0m\u001b[0;34m\u001b[0m\u001b[0m\n\u001b[0m\u001b[1;32m      3\u001b[0m \u001b[0;32mimport\u001b[0m \u001b[0mpandas\u001b[0m \u001b[0;32mas\u001b[0m \u001b[0mpd\u001b[0m \u001b[0;31m# data processing, CSV file I/O (e.g. pd.read_csv)\u001b[0m\u001b[0;34m\u001b[0m\u001b[0;34m\u001b[0m\u001b[0m\n\u001b[1;32m      4\u001b[0m \u001b[0;32mimport\u001b[0m \u001b[0mmatplotlib\u001b[0m\u001b[0;34m.\u001b[0m\u001b[0mpyplot\u001b[0m \u001b[0;32mas\u001b[0m \u001b[0mplt\u001b[0m\u001b[0;34m\u001b[0m\u001b[0;34m\u001b[0m\u001b[0m\n\u001b[1;32m      5\u001b[0m \u001b[0;32mfrom\u001b[0m \u001b[0mwordcloud\u001b[0m \u001b[0;32mimport\u001b[0m \u001b[0mWordCloud\u001b[0m\u001b[0;34m\u001b[0m\u001b[0;34m\u001b[0m\u001b[0m\n",
      "\u001b[0;31mModuleNotFoundError\u001b[0m: No module named 'spacy'"
     ]
    }
   ],
   "source": [
    "import numpy as np # linear algebra\n",
    "import spacy\n",
    "import pandas as pd # data processing, CSV file I/O (e.g. pd.read_csv)\n",
    "import matplotlib.pyplot as plt\n",
    "from wordcloud import WordCloud\n",
    "from IPython.display import display\n",
    "import base64\n",
    "import string\n",
    "import re\n",
    "from collections import Counter\n",
    "from time import time\n",
    "# from sklearn.feature_extraction.stop_words import ENGLISH_STOP_WORDS as stopwords\n",
    "from nltk.corpus import stopwords\n",
    "import nltk\n",
    "import heapq\n",
    "%matplotlib inline\n",
    "\n",
    "stopwords = stopwords.words('english')"
   ]
  },
  {
   "cell_type": "code",
   "execution_count": 12,
   "metadata": {
    "_cell_guid": "b1076dfc-b9ad-4769-8c92-a6c4dae69d19",
    "_uuid": "8f2839f25d086af736a60e9eeb907d3b93b6e0e5"
   },
   "outputs": [],
   "source": [
    "# This Python 3 environment comes with many helpful analytics libraries installed\n",
    "# It is defined by the kaggle/python docker image: https://github.com/kaggle/docker-python\n",
    "# For example, here's several helpful packages to load in \n",
    "\n",
    "import numpy as np # linear algebra\n",
    "import pandas as pd # data processing, CSV file I/O (e.g. pd.read_csv)\n",
    "\n",
    "# Input data files are available in the \"../input/\" directory.\n",
    "# For example, running this (by clicking run or pressing Shift+Enter) will list all files under the input directory\n",
    "\n",
    "nlp = spacy.load('en_core_web_lg')\n",
    "def normalize_text(text):\n",
    "    return text.replace(\"\\n\", \" \")\n",
    "\n",
    "summ_article = {}\n",
    "summ_article['article'] = []\n",
    "summ_article['summary'] = []"
   ]
  },
  {
   "cell_type": "code",
   "execution_count": 13,
   "metadata": {
    "_cell_guid": "b1076dfc-b9ad-4769-8c92-a6c4dae69d19",
    "_uuid": "8f2839f25d086af736a60e9eeb907d3b93b6e0e5"
   },
   "outputs": [],
   "source": [
    "import os\n",
    "\n",
    "for articles, summaries in zip(os.walk('input/BBC News Summary/News Articles/business'), os.walk('input/BBC News Summary/Summaries/business')):\n",
    "    for filename in zip(articles[2], summaries[2]):\n",
    "        with open(os.path.join(articles[0], filename[0])) as fh:\n",
    "            file = \"\"\n",
    "            for line in fh:\n",
    "                file += line\n",
    "            summ_article['article'].append(file)\n",
    "            \n",
    "        with open(os.path.join(summaries[0], filename[1])) as fh:\n",
    "            file = \"\"\n",
    "            for line in fh:\n",
    "                file += line\n",
    "            summ_article['summary'].append(file)\n",
    "            \n",
    "for articles, summaries in zip(os.walk('input/BBC News Summary/News Articles/entertainment'), os.walk('input/BBC News Summary/Summaries/entertainment')):\n",
    "    for filename in zip(articles[2], summaries[2]):\n",
    "        with open(os.path.join(articles[0], filename[0])) as fh:\n",
    "            file = \"\"\n",
    "            for line in fh:\n",
    "                file += line\n",
    "            summ_article['article'].append(file)\n",
    "            \n",
    "        with open(os.path.join(summaries[0], filename[1])) as fh:\n",
    "            file = \"\"\n",
    "            for line in fh:\n",
    "                file += line\n",
    "            summ_article['summary'].append(file)\n",
    "\n",
    "for articles, summaries in zip(os.walk('input/BBC News Summary/News Articles/politics'), os.walk('input/BBC News Summary/Summaries/politics')):\n",
    "    for filename in zip(articles[2], summaries[2]):\n",
    "        with open(os.path.join(articles[0], filename[0])) as fh:\n",
    "            file = \"\"\n",
    "            for line in fh:\n",
    "                file += line\n",
    "            summ_article['article'].append(file)\n",
    "            \n",
    "        with open(os.path.join(summaries[0], filename[1])) as fh:\n",
    "            file = \"\"\n",
    "            for line in fh:\n",
    "                file += line\n",
    "            summ_article['summary'].append(file)\n",
    "            \n",
    "for articles, summaries in zip(os.walk('input/BBC News Summary/News Articles/sport'), os.walk('input/BBC News Summary/Summaries/sport')):\n",
    "    for filename in zip(articles[2], summaries[2]):\n",
    "        with open(os.path.join(articles[0], filename[0]), encoding=\"utf8\", errors='ignore') as fh:\n",
    "            file = \"\"\n",
    "            for line in fh:\n",
    "                file += line\n",
    "            summ_article['article'].append(file)\n",
    "            \n",
    "        with open(os.path.join(summaries[0], filename[1])) as fh:\n",
    "            file = \"\"\n",
    "            for line in fh:\n",
    "                file += line\n",
    "            summ_article['summary'].append(file)\n",
    "            \n",
    "for articles, summaries in zip(os.walk('input/BBC News Summary/News Articles/tech'), os.walk('input/BBC News Summary/Summaries/tech')):\n",
    "    for filename in zip(articles[2], summaries[2]):\n",
    "        with open(os.path.join(articles[0], filename[0])) as fh:\n",
    "            file = \"\"\n",
    "            for line in fh:\n",
    "                file += line\n",
    "            summ_article['article'].append(file)\n",
    "            \n",
    "        with open(os.path.join(summaries[0], filename[1])) as fh:\n",
    "            file = \"\"\n",
    "            for line in fh:\n",
    "                file += line\n",
    "            summ_article['summary'].append(file)\n",
    "\n",
    "df = pd.DataFrame(data=summ_article)\n",
    "\n",
    "df.columns = ['article', 'summary']\n",
    "\n",
    "# Any results you write to the current directory are saved as output."
   ]
  },
  {
   "cell_type": "code",
   "execution_count": 14,
   "metadata": {},
   "outputs": [],
   "source": [
    "df['cleaned_article_first_pass'] = df['article'].apply(normalize_text)\n",
    "df['cleaned_summary_first_pass'] = df['summary'].apply(normalize_text)"
   ]
  },
  {
   "cell_type": "code",
   "execution_count": 15,
   "metadata": {},
   "outputs": [
    {
     "data": {
      "text/html": [
       "<div>\n",
       "<style scoped>\n",
       "    .dataframe tbody tr th:only-of-type {\n",
       "        vertical-align: middle;\n",
       "    }\n",
       "\n",
       "    .dataframe tbody tr th {\n",
       "        vertical-align: top;\n",
       "    }\n",
       "\n",
       "    .dataframe thead th {\n",
       "        text-align: right;\n",
       "    }\n",
       "</style>\n",
       "<table border=\"1\" class=\"dataframe\">\n",
       "  <thead>\n",
       "    <tr style=\"text-align: right;\">\n",
       "      <th></th>\n",
       "      <th>article</th>\n",
       "      <th>summary</th>\n",
       "      <th>cleaned_article_first_pass</th>\n",
       "      <th>cleaned_summary_first_pass</th>\n",
       "    </tr>\n",
       "  </thead>\n",
       "  <tbody>\n",
       "    <tr>\n",
       "      <th>0</th>\n",
       "      <td>UK economy facing 'major risks'\\n\\nThe UK manu...</td>\n",
       "      <td>\"Despite some positive news for the export sec...</td>\n",
       "      <td>UK economy facing 'major risks'  The UK manufa...</td>\n",
       "      <td>\"Despite some positive news for the export sec...</td>\n",
       "    </tr>\n",
       "    <tr>\n",
       "      <th>1</th>\n",
       "      <td>Aids and climate top Davos agenda\\n\\nClimate c...</td>\n",
       "      <td>At the same time, about 100,000 people are exp...</td>\n",
       "      <td>Aids and climate top Davos agenda  Climate cha...</td>\n",
       "      <td>At the same time, about 100,000 people are exp...</td>\n",
       "    </tr>\n",
       "    <tr>\n",
       "      <th>2</th>\n",
       "      <td>Asian quake hits European shares\\n\\nShares in ...</td>\n",
       "      <td>The unfolding scale of the disaster in south A...</td>\n",
       "      <td>Asian quake hits European shares  Shares in Eu...</td>\n",
       "      <td>The unfolding scale of the disaster in south A...</td>\n",
       "    </tr>\n",
       "    <tr>\n",
       "      <th>3</th>\n",
       "      <td>India power shares jump on debut\\n\\nShares in ...</td>\n",
       "      <td>Shares in India's largest power producer, Nati...</td>\n",
       "      <td>India power shares jump on debut  Shares in In...</td>\n",
       "      <td>Shares in India's largest power producer, Nati...</td>\n",
       "    </tr>\n",
       "    <tr>\n",
       "      <th>4</th>\n",
       "      <td>Lacroix label bought by US firm\\n\\nLuxury good...</td>\n",
       "      <td>LVMH said the French designer's haute couture ...</td>\n",
       "      <td>Lacroix label bought by US firm  Luxury goods ...</td>\n",
       "      <td>LVMH said the French designer's haute couture ...</td>\n",
       "    </tr>\n",
       "  </tbody>\n",
       "</table>\n",
       "</div>"
      ],
      "text/plain": [
       "                                             article  \\\n",
       "0  UK economy facing 'major risks'\\n\\nThe UK manu...   \n",
       "1  Aids and climate top Davos agenda\\n\\nClimate c...   \n",
       "2  Asian quake hits European shares\\n\\nShares in ...   \n",
       "3  India power shares jump on debut\\n\\nShares in ...   \n",
       "4  Lacroix label bought by US firm\\n\\nLuxury good...   \n",
       "\n",
       "                                             summary  \\\n",
       "0  \"Despite some positive news for the export sec...   \n",
       "1  At the same time, about 100,000 people are exp...   \n",
       "2  The unfolding scale of the disaster in south A...   \n",
       "3  Shares in India's largest power producer, Nati...   \n",
       "4  LVMH said the French designer's haute couture ...   \n",
       "\n",
       "                          cleaned_article_first_pass  \\\n",
       "0  UK economy facing 'major risks'  The UK manufa...   \n",
       "1  Aids and climate top Davos agenda  Climate cha...   \n",
       "2  Asian quake hits European shares  Shares in Eu...   \n",
       "3  India power shares jump on debut  Shares in In...   \n",
       "4  Lacroix label bought by US firm  Luxury goods ...   \n",
       "\n",
       "                          cleaned_summary_first_pass  \n",
       "0  \"Despite some positive news for the export sec...  \n",
       "1  At the same time, about 100,000 people are exp...  \n",
       "2  The unfolding scale of the disaster in south A...  \n",
       "3  Shares in India's largest power producer, Nati...  \n",
       "4  LVMH said the French designer's haute couture ...  "
      ]
     },
     "execution_count": 15,
     "metadata": {},
     "output_type": "execute_result"
    }
   ],
   "source": [
    "df.head()"
   ]
  },
  {
   "cell_type": "code",
   "execution_count": 16,
   "metadata": {},
   "outputs": [],
   "source": [
    "punctuations = '!\"#$%&\\'()*+,-/:;<=>?@[\\\\]^_`{|}~©'\n",
    "# Define function to cleanup text by removing personal pronouns, stopwords, and puncuation\n",
    "def cleanup_text(docs, logging=False):\n",
    "    texts = []\n",
    "    doc = nlp(docs, disable=['parser', 'ner'])\n",
    "    tokens = [tok.lemma_.lower().strip() for tok in doc if tok.lemma_ != '-PRON-']\n",
    "    tokens = [tok for tok in tokens if tok not in stopwords and tok not in punctuations]\n",
    "    tokens = ' '.join(tokens)\n",
    "    texts.append(tokens)\n",
    "    return pd.Series(texts)\n",
    "\n",
    "df['article_cleaned'] = df['cleaned_article_first_pass'].apply(lambda x: cleanup_text(x, False))\n",
    "df['summary_cleaned'] = df['cleaned_summary_first_pass'].apply(lambda x: cleanup_text(x, False))"
   ]
  },
  {
   "cell_type": "code",
   "execution_count": 17,
   "metadata": {},
   "outputs": [
    {
     "data": {
      "text/html": [
       "<div>\n",
       "<style scoped>\n",
       "    .dataframe tbody tr th:only-of-type {\n",
       "        vertical-align: middle;\n",
       "    }\n",
       "\n",
       "    .dataframe tbody tr th {\n",
       "        vertical-align: top;\n",
       "    }\n",
       "\n",
       "    .dataframe thead th {\n",
       "        text-align: right;\n",
       "    }\n",
       "</style>\n",
       "<table border=\"1\" class=\"dataframe\">\n",
       "  <thead>\n",
       "    <tr style=\"text-align: right;\">\n",
       "      <th></th>\n",
       "      <th>article</th>\n",
       "      <th>summary</th>\n",
       "      <th>cleaned_article_first_pass</th>\n",
       "      <th>cleaned_summary_first_pass</th>\n",
       "      <th>article_cleaned</th>\n",
       "      <th>summary_cleaned</th>\n",
       "    </tr>\n",
       "  </thead>\n",
       "  <tbody>\n",
       "    <tr>\n",
       "      <th>0</th>\n",
       "      <td>UK economy facing 'major risks'\\n\\nThe UK manu...</td>\n",
       "      <td>\"Despite some positive news for the export sec...</td>\n",
       "      <td>UK economy facing 'major risks'  The UK manufa...</td>\n",
       "      <td>\"Despite some positive news for the export sec...</td>\n",
       "      <td>uk economy face major risk uk manufacturing se...</td>\n",
       "      <td>despite positive news export sector worry sign...</td>\n",
       "    </tr>\n",
       "    <tr>\n",
       "      <th>1</th>\n",
       "      <td>Aids and climate top Davos agenda\\n\\nClimate c...</td>\n",
       "      <td>At the same time, about 100,000 people are exp...</td>\n",
       "      <td>Aids and climate top Davos agenda  Climate cha...</td>\n",
       "      <td>At the same time, about 100,000 people are exp...</td>\n",
       "      <td>aid climate top davos agenda climate change fi...</td>\n",
       "      <td>time 100,000 people expect converge brazilian ...</td>\n",
       "    </tr>\n",
       "    <tr>\n",
       "      <th>2</th>\n",
       "      <td>Asian quake hits European shares\\n\\nShares in ...</td>\n",
       "      <td>The unfolding scale of the disaster in south A...</td>\n",
       "      <td>Asian quake hits European shares  Shares in Eu...</td>\n",
       "      <td>The unfolding scale of the disaster in south A...</td>\n",
       "      <td>asian quake hit european share share europe 's...</td>\n",
       "      <td>unfold scale disaster south asia little immedi...</td>\n",
       "    </tr>\n",
       "    <tr>\n",
       "      <th>3</th>\n",
       "      <td>India power shares jump on debut\\n\\nShares in ...</td>\n",
       "      <td>Shares in India's largest power producer, Nati...</td>\n",
       "      <td>India power shares jump on debut  Shares in In...</td>\n",
       "      <td>Shares in India's largest power producer, Nati...</td>\n",
       "      <td>india power share jump debut share india 's la...</td>\n",
       "      <td>share india 's large power producer national t...</td>\n",
       "    </tr>\n",
       "    <tr>\n",
       "      <th>4</th>\n",
       "      <td>Lacroix label bought by US firm\\n\\nLuxury good...</td>\n",
       "      <td>LVMH said the French designer's haute couture ...</td>\n",
       "      <td>Lacroix label bought by US firm  Luxury goods ...</td>\n",
       "      <td>LVMH said the French designer's haute couture ...</td>\n",
       "      <td>lacroix label buy us firm luxury good group lv...</td>\n",
       "      <td>lvmh say french designer 's haute couture read...</td>\n",
       "    </tr>\n",
       "  </tbody>\n",
       "</table>\n",
       "</div>"
      ],
      "text/plain": [
       "                                             article  \\\n",
       "0  UK economy facing 'major risks'\\n\\nThe UK manu...   \n",
       "1  Aids and climate top Davos agenda\\n\\nClimate c...   \n",
       "2  Asian quake hits European shares\\n\\nShares in ...   \n",
       "3  India power shares jump on debut\\n\\nShares in ...   \n",
       "4  Lacroix label bought by US firm\\n\\nLuxury good...   \n",
       "\n",
       "                                             summary  \\\n",
       "0  \"Despite some positive news for the export sec...   \n",
       "1  At the same time, about 100,000 people are exp...   \n",
       "2  The unfolding scale of the disaster in south A...   \n",
       "3  Shares in India's largest power producer, Nati...   \n",
       "4  LVMH said the French designer's haute couture ...   \n",
       "\n",
       "                          cleaned_article_first_pass  \\\n",
       "0  UK economy facing 'major risks'  The UK manufa...   \n",
       "1  Aids and climate top Davos agenda  Climate cha...   \n",
       "2  Asian quake hits European shares  Shares in Eu...   \n",
       "3  India power shares jump on debut  Shares in In...   \n",
       "4  Lacroix label bought by US firm  Luxury goods ...   \n",
       "\n",
       "                          cleaned_summary_first_pass  \\\n",
       "0  \"Despite some positive news for the export sec...   \n",
       "1  At the same time, about 100,000 people are exp...   \n",
       "2  The unfolding scale of the disaster in south A...   \n",
       "3  Shares in India's largest power producer, Nati...   \n",
       "4  LVMH said the French designer's haute couture ...   \n",
       "\n",
       "                                     article_cleaned  \\\n",
       "0  uk economy face major risk uk manufacturing se...   \n",
       "1  aid climate top davos agenda climate change fi...   \n",
       "2  asian quake hit european share share europe 's...   \n",
       "3  india power share jump debut share india 's la...   \n",
       "4  lacroix label buy us firm luxury good group lv...   \n",
       "\n",
       "                                     summary_cleaned  \n",
       "0  despite positive news export sector worry sign...  \n",
       "1  time 100,000 people expect converge brazilian ...  \n",
       "2  unfold scale disaster south asia little immedi...  \n",
       "3  share india 's large power producer national t...  \n",
       "4  lvmh say french designer 's haute couture read...  "
      ]
     },
     "execution_count": 17,
     "metadata": {},
     "output_type": "execute_result"
    }
   ],
   "source": [
    "df.head()"
   ]
  },
  {
   "cell_type": "code",
   "execution_count": 18,
   "metadata": {},
   "outputs": [],
   "source": [
    "df['article_len'] = df['article_cleaned'].str.split().str.len()\n",
    "df['summary_len'] = df['summary_cleaned'].str.split().str.len()"
   ]
  },
  {
   "cell_type": "code",
   "execution_count": 19,
   "metadata": {},
   "outputs": [
    {
     "data": {
      "text/html": [
       "<div>\n",
       "<style scoped>\n",
       "    .dataframe tbody tr th:only-of-type {\n",
       "        vertical-align: middle;\n",
       "    }\n",
       "\n",
       "    .dataframe tbody tr th {\n",
       "        vertical-align: top;\n",
       "    }\n",
       "\n",
       "    .dataframe thead th {\n",
       "        text-align: right;\n",
       "    }\n",
       "</style>\n",
       "<table border=\"1\" class=\"dataframe\">\n",
       "  <thead>\n",
       "    <tr style=\"text-align: right;\">\n",
       "      <th></th>\n",
       "      <th>article</th>\n",
       "      <th>summary</th>\n",
       "      <th>cleaned_article_first_pass</th>\n",
       "      <th>cleaned_summary_first_pass</th>\n",
       "      <th>article_cleaned</th>\n",
       "      <th>summary_cleaned</th>\n",
       "      <th>article_len</th>\n",
       "      <th>summary_len</th>\n",
       "    </tr>\n",
       "  </thead>\n",
       "  <tbody>\n",
       "    <tr>\n",
       "      <th>0</th>\n",
       "      <td>UK economy facing 'major risks'\\n\\nThe UK manu...</td>\n",
       "      <td>\"Despite some positive news for the export sec...</td>\n",
       "      <td>UK economy facing 'major risks'  The UK manufa...</td>\n",
       "      <td>\"Despite some positive news for the export sec...</td>\n",
       "      <td>uk economy face major risk uk manufacturing se...</td>\n",
       "      <td>despite positive news export sector worry sign...</td>\n",
       "      <td>219</td>\n",
       "      <td>89</td>\n",
       "    </tr>\n",
       "    <tr>\n",
       "      <th>1</th>\n",
       "      <td>Aids and climate top Davos agenda\\n\\nClimate c...</td>\n",
       "      <td>At the same time, about 100,000 people are exp...</td>\n",
       "      <td>Aids and climate top Davos agenda  Climate cha...</td>\n",
       "      <td>At the same time, about 100,000 people are exp...</td>\n",
       "      <td>aid climate top davos agenda climate change fi...</td>\n",
       "      <td>time 100,000 people expect converge brazilian ...</td>\n",
       "      <td>294</td>\n",
       "      <td>166</td>\n",
       "    </tr>\n",
       "    <tr>\n",
       "      <th>2</th>\n",
       "      <td>Asian quake hits European shares\\n\\nShares in ...</td>\n",
       "      <td>The unfolding scale of the disaster in south A...</td>\n",
       "      <td>Asian quake hits European shares  Shares in Eu...</td>\n",
       "      <td>The unfolding scale of the disaster in south A...</td>\n",
       "      <td>asian quake hit european share share europe 's...</td>\n",
       "      <td>unfold scale disaster south asia little immedi...</td>\n",
       "      <td>401</td>\n",
       "      <td>183</td>\n",
       "    </tr>\n",
       "    <tr>\n",
       "      <th>3</th>\n",
       "      <td>India power shares jump on debut\\n\\nShares in ...</td>\n",
       "      <td>Shares in India's largest power producer, Nati...</td>\n",
       "      <td>India power shares jump on debut  Shares in In...</td>\n",
       "      <td>Shares in India's largest power producer, Nati...</td>\n",
       "      <td>india power share jump debut share india 's la...</td>\n",
       "      <td>share india 's large power producer national t...</td>\n",
       "      <td>127</td>\n",
       "      <td>53</td>\n",
       "    </tr>\n",
       "    <tr>\n",
       "      <th>4</th>\n",
       "      <td>Lacroix label bought by US firm\\n\\nLuxury good...</td>\n",
       "      <td>LVMH said the French designer's haute couture ...</td>\n",
       "      <td>Lacroix label bought by US firm  Luxury goods ...</td>\n",
       "      <td>LVMH said the French designer's haute couture ...</td>\n",
       "      <td>lacroix label buy us firm luxury good group lv...</td>\n",
       "      <td>lvmh say french designer 's haute couture read...</td>\n",
       "      <td>111</td>\n",
       "      <td>40</td>\n",
       "    </tr>\n",
       "  </tbody>\n",
       "</table>\n",
       "</div>"
      ],
      "text/plain": [
       "                                             article  \\\n",
       "0  UK economy facing 'major risks'\\n\\nThe UK manu...   \n",
       "1  Aids and climate top Davos agenda\\n\\nClimate c...   \n",
       "2  Asian quake hits European shares\\n\\nShares in ...   \n",
       "3  India power shares jump on debut\\n\\nShares in ...   \n",
       "4  Lacroix label bought by US firm\\n\\nLuxury good...   \n",
       "\n",
       "                                             summary  \\\n",
       "0  \"Despite some positive news for the export sec...   \n",
       "1  At the same time, about 100,000 people are exp...   \n",
       "2  The unfolding scale of the disaster in south A...   \n",
       "3  Shares in India's largest power producer, Nati...   \n",
       "4  LVMH said the French designer's haute couture ...   \n",
       "\n",
       "                          cleaned_article_first_pass  \\\n",
       "0  UK economy facing 'major risks'  The UK manufa...   \n",
       "1  Aids and climate top Davos agenda  Climate cha...   \n",
       "2  Asian quake hits European shares  Shares in Eu...   \n",
       "3  India power shares jump on debut  Shares in In...   \n",
       "4  Lacroix label bought by US firm  Luxury goods ...   \n",
       "\n",
       "                          cleaned_summary_first_pass  \\\n",
       "0  \"Despite some positive news for the export sec...   \n",
       "1  At the same time, about 100,000 people are exp...   \n",
       "2  The unfolding scale of the disaster in south A...   \n",
       "3  Shares in India's largest power producer, Nati...   \n",
       "4  LVMH said the French designer's haute couture ...   \n",
       "\n",
       "                                     article_cleaned  \\\n",
       "0  uk economy face major risk uk manufacturing se...   \n",
       "1  aid climate top davos agenda climate change fi...   \n",
       "2  asian quake hit european share share europe 's...   \n",
       "3  india power share jump debut share india 's la...   \n",
       "4  lacroix label buy us firm luxury good group lv...   \n",
       "\n",
       "                                     summary_cleaned  article_len  summary_len  \n",
       "0  despite positive news export sector worry sign...          219           89  \n",
       "1  time 100,000 people expect converge brazilian ...          294          166  \n",
       "2  unfold scale disaster south asia little immedi...          401          183  \n",
       "3  share india 's large power producer national t...          127           53  \n",
       "4  lvmh say french designer 's haute couture read...          111           40  "
      ]
     },
     "execution_count": 19,
     "metadata": {},
     "output_type": "execute_result"
    }
   ],
   "source": [
    "df.head()"
   ]
  },
  {
   "cell_type": "code",
   "execution_count": 20,
   "metadata": {},
   "outputs": [
    {
     "name": "stderr",
     "output_type": "stream",
     "text": [
      "No handles with labels found to put in legend.\n"
     ]
    },
    {
     "data": {
      "image/png": "[encoded data removed]",
      "text/plain": [
       "<Figure size 432x288 with 1 Axes>"
      ]
     },
     "metadata": {
      "needs_background": "light"
     },
     "output_type": "display_data"
    }
   ],
   "source": [
    "import matplotlib.pyplot as plt\n",
    "fig, ax = plt.subplots()\n",
    "rev = df.groupby('article_len')['summary_len'].mean().reset_index()\n",
    "# Using set_dashes() to modify dashing of an existing line\n",
    "line1 = ax.scatter(rev['summary_len'], rev['article_len'])\n",
    "\n",
    "ax.xlabel()\n",
    "plt.savefig('article_summary_len.png')\n",
    "plt.show()"
   ]
  },
  {
   "cell_type": "code",
   "execution_count": 21,
   "metadata": {},
   "outputs": [
    {
     "data": {
      "image/png": "[encoded data removed]",
      "text/plain": [
       "<Figure size 432x288 with 2 Axes>"
      ]
     },
     "metadata": {
      "needs_background": "light"
     },
     "output_type": "display_data"
    }
   ],
   "source": [
    "import matplotlib.pyplot as plt\n",
    "\n",
    "graph_df= pd.DataFrame()\n",
    "graph_df['article']=df['article_len']\n",
    "graph_df['summary']=df['summary_len']\n",
    "\n",
    "graph_df.hist(bins = 20)\n",
    "\n",
    "plt.savefig('article_summary_histogram.png')\n",
    "\n",
    "plt.show()"
   ]
  },
  {
   "cell_type": "code",
   "execution_count": 30,
   "metadata": {},
   "outputs": [],
   "source": [
    "# this is function for text summarization\n",
    "def generate_summary(text_without_removing_dot, cleaned_text):\n",
    "    sample_text = text_without_removing_dot\n",
    "    doc = nlp(sample_text)\n",
    "    sentence_list=[]\n",
    "    for idx, sentence in enumerate(doc.sents): # we are using spacy for sentence tokenization\n",
    "        sentence_list.append(re.sub(r'[^\\w\\s]','',str(sentence)))\n",
    "\n",
    "    stopwords = nltk.corpus.stopwords.words('english')\n",
    "\n",
    "    word_frequencies = {}  \n",
    "    for word in nltk.word_tokenize(cleaned_text):  \n",
    "        if word not in stopwords:\n",
    "            if word not in word_frequencies.keys():\n",
    "                word_frequencies[word] = 1\n",
    "            else:\n",
    "                word_frequencies[word] += 1\n",
    "\n",
    "\n",
    "    maximum_frequncy = max(word_frequencies.values())\n",
    "\n",
    "    for word in word_frequencies.keys():  \n",
    "        word_frequencies[word] = (word_frequencies[word]/maximum_frequncy)\n",
    "\n",
    "\n",
    "    sentence_scores = {}  \n",
    "    for sent in sentence_list:  \n",
    "        for word in nltk.word_tokenize(sent.lower()):\n",
    "            if word in word_frequencies.keys():\n",
    "                if len(sent.split(' ')) < 30:\n",
    "                    if sent not in sentence_scores.keys():\n",
    "                        sentence_scores[sent] = word_frequencies[word]\n",
    "                    else:\n",
    "                        sentence_scores[sent] += word_frequencies[word]\n",
    "\n",
    "\n",
    "    summary_sentences = heapq.nlargest(7, sentence_scores, key=sentence_scores.get)\n",
    "\n",
    "    summary = ' '.join(summary_sentences)\n",
    "    print(\"Original Text:\\n\")\n",
    "    print(text_without_removing_dot)\n",
    "    print('\\n\\nSummarized text:\\n')\n",
    "    print(summary)  "
   ]
  },
  {
   "cell_type": "code",
   "execution_count": 31,
   "metadata": {},
   "outputs": [
    {
     "name": "stdout",
     "output_type": "stream",
     "text": [
      "Original Text:\n",
      "\n",
      "WorldCom director admits lying  The former chief financial officer at US telecoms firm WorldCom has admitted before a New York court that he used to lie to fellow board members.  Speaking at the trial of his former boss Bernard Ebbers, Scott Sullivan said he lied to the board to cover up the hole in WorldCom's finances. Mr Ebbers is on trial for fraud and conspiracy in relation to WorldCom's collapse in 2002. He pleads not guilty. The firm had been overstating its accounts by $11bn (£8.5bn). Mr Sullivan, 42, has already pleaded guilty to fraud and will be sentenced following Mr Ebbers' trial, where he is appearing as a prosecution witness. Mr Ebbers, 63, has always insisted that he was unaware of any hidden shortfalls in WorldCom's finances.  In the New York court on Wednesday, Mr Ebbers' lawyer Reid Weingarten asked Mr Sullivan: \"If you believe something is in your interest, you are willing and able to lie to accomplish it, isn't that right?\"  \"On that date, yes. I was lying,\" replied Mr Sullivan. Mr Weingarten has suggested that Mr Sullivan is implicating Mr Ebbers only to win a lighter sentence, something Mr Sullivan denies. Mr Sullivan also rejects a suggestion that he had once told fellow WorldCom board member Bert Roberts that Mr Ebbers was unaware of the accounting fraud at WorldCom. The trial of Mr Ebbers is now into its third week.  Under 23 hours of questioning from a federal prosecutor, Mr Sullivan has previously told the court that he repeatedly warned Mr Ebbers that falsifying the books would be the only way to meet Wall Street revenue and earnings expectations. Mr Sullivan claims that Mr Ebbers refused to stop the fraud. Mr Ebbers could face a sentence of 85 years if convicted of all the charges he is facing. WorldCom's problems appear to have begun with the collapse of the dotcom boom which cut its business from internet companies. Prosecutors allege that the company's top executives responded by orchestrating massive fraud over a two-year period. WorldCom emerged from bankruptcy protection in 2004, and is now known as MCI. \n",
      "\n",
      "\n",
      "Summarized text:\n",
      "\n",
      "Mr Weingarten has suggested that Mr Sullivan is implicating Mr Ebbers only to win a lighter sentence something Mr Sullivan denies Mr Sullivan also rejects a suggestion that he had once told fellow WorldCom board member Bert Roberts that Mr Ebbers was unaware of the accounting fraud at WorldCom Mr Sullivan 42 has already pleaded guilty to fraud and will be sentenced following Mr Ebbers trial where he is appearing as a prosecution witness Mr Sullivan claims that Mr Ebbers refused to stop the fraud Mr Ebbers is on trial for fraud and conspiracy in relation to WorldComs collapse in 2002 Mr Ebbers could face a sentence of 85 years if convicted of all the charges he is facing The trial of Mr Ebbers is now into its third week  \n",
      "\n",
      "\n",
      " Original Summary:\n",
      "\n",
      "mr sullivan 42 already plead guilty fraud sentence follow mr ebbers trial appear prosecution witness . mr sullivan claim mr ebbers refuse stop fraud . mr weingarten suggest mr sullivan implicate mr ebbers win light sentence something mr sullivan deny . mr sullivan also reject suggestion tell fellow worldcom board member bert roberts mr ebbers unaware accounting fraud worldcom . mr ebbers trial fraud conspiracy relation worldcom 's collapse 2002.the trial mr ebbers third week . new york court wednesday mr ebbers lawyer reid weingarten ask mr sullivan believe something interest willing able lie accomplish right?\"mr ebbers 63 always insist unaware hidden shortfall worldcom 's finance .\n"
     ]
    }
   ],
   "source": [
    "generate_summary(df['cleaned_article_first_pass'][8], df['article_cleaned'][8])\n",
    "\n",
    "print('\\n\\n Original Summary:\\n')\n",
    "print(df['summary_cleaned'][8])"
   ]
  },
  {
   "cell_type": "code",
   "execution_count": 29,
   "metadata": {},
   "outputs": [],
   "source": [
    "from sklearn.model_selection import train_test_split\n",
    "\n",
    "x_tr, x_val, y_tr, y_val = train_test_split(np.array(df['cleaned_article_first_pass']),\n",
    "                                            np.array(df['cleaned_summary_first_pass']),\n",
    "                                            test_size=0.1,\n",
    "                                            random_state=0,\n",
    "                                            shuffle=True)\n"
   ]
  },
  {
   "cell_type": "code",
   "execution_count": 30,
   "metadata": {},
   "outputs": [],
   "source": [
    "from keras.preprocessing.text import Tokenizer \n",
    "from keras.preprocessing.sequence import pad_sequences\n",
    "\n",
    "#prepare a tokenizer for reviews on training data\n",
    "x_tokenizer = Tokenizer() \n",
    "x_tokenizer.fit_on_texts(list(x_tr))"
   ]
  },
  {
   "cell_type": "code",
   "execution_count": 31,
   "metadata": {},
   "outputs": [
    {
     "name": "stdout",
     "output_type": "stream",
     "text": [
      "% of rare words in vocabulary: 18.50128068969826\n",
      "Total Coverage of rare words: 0.3149706946204503\n"
     ]
    }
   ],
   "source": [
    "thresh=4\n",
    "\n",
    "cnt=0\n",
    "tot_cnt=0\n",
    "freq=0\n",
    "tot_freq=0\n",
    "\n",
    "for key,value in x_tokenizer.word_counts.items():\n",
    "    tot_cnt=tot_cnt+1\n",
    "    tot_freq=tot_freq+value\n",
    "    if(value<thresh):\n",
    "        cnt=cnt+1\n",
    "        freq=freq+value\n",
    "    \n",
    "print(\"% of rare words in vocabulary:\",(cnt/tot_cnt)*100)\n",
    "print(\"Total Coverage of rare words:\",(freq/tot_freq)*100)\n"
   ]
  },
  {
   "cell_type": "code",
   "execution_count": 32,
   "metadata": {},
   "outputs": [
    {
     "name": "stdout",
     "output_type": "stream",
     "text": [
      "Size of vocabulary in X = 26092\n"
     ]
    }
   ],
   "source": [
    "max_text_len=100\n",
    "max_summary_len=100\n",
    "\n",
    "#prepare a tokenizer for reviews on training data\n",
    "x_tokenizer = Tokenizer(num_words=tot_cnt-cnt) \n",
    "x_tokenizer.fit_on_texts(list(x_tr))\n",
    "\n",
    "#convert text sequences into integer sequences (i.e one-hot encodeing all the words)\n",
    "x_tr_seq    =   x_tokenizer.texts_to_sequences(x_tr) \n",
    "x_val_seq   =   x_tokenizer.texts_to_sequences(x_val)\n",
    "\n",
    "#padding zero upto maximum length\n",
    "x_tr    =   pad_sequences(x_tr_seq,  maxlen=max_text_len, padding='post')\n",
    "x_val   =   pad_sequences(x_val_seq, maxlen=max_text_len, padding='post')\n",
    "\n",
    "#size of vocabulary ( +1 for padding token)\n",
    "x_voc   =  x_tokenizer.num_words + 1\n",
    "\n",
    "print(\"Size of vocabulary in X = {}\".format(x_voc))"
   ]
  },
  {
   "cell_type": "code",
   "execution_count": 33,
   "metadata": {},
   "outputs": [],
   "source": [
    "#prepare a tokenizer for reviews on training data\n",
    "y_tokenizer = Tokenizer()   \n",
    "y_tokenizer.fit_on_texts(list(y_tr))"
   ]
  },
  {
   "cell_type": "code",
   "execution_count": 34,
   "metadata": {},
   "outputs": [
    {
     "name": "stdout",
     "output_type": "stream",
     "text": [
      "% of rare words in vocabulary: 34.069913188802744\n",
      "Total Coverage of rare words: 1.5318182932651052\n"
     ]
    }
   ],
   "source": [
    "thresh=6\n",
    "\n",
    "cnt=0\n",
    "tot_cnt=0\n",
    "freq=0\n",
    "tot_freq=0\n",
    "\n",
    "for key,value in y_tokenizer.word_counts.items():\n",
    "    tot_cnt=tot_cnt+1\n",
    "    tot_freq=tot_freq+value\n",
    "    if(value<thresh):\n",
    "        cnt=cnt+1\n",
    "        freq=freq+value\n",
    "    \n",
    "print(\"% of rare words in vocabulary:\",(cnt/tot_cnt)*100)\n",
    "print(\"Total Coverage of rare words:\",(freq/tot_freq)*100)"
   ]
  },
  {
   "cell_type": "code",
   "execution_count": 35,
   "metadata": {},
   "outputs": [
    {
     "name": "stdout",
     "output_type": "stream",
     "text": [
      "Size of vocabulary in Y = 14203\n"
     ]
    }
   ],
   "source": [
    "#prepare a tokenizer for reviews on training data\n",
    "y_tokenizer = Tokenizer(num_words=tot_cnt-cnt) \n",
    "y_tokenizer.fit_on_texts(list(y_tr))\n",
    "\n",
    "#convert text sequences into integer sequences (i.e one hot encode the text in Y)\n",
    "y_tr_seq    =   y_tokenizer.texts_to_sequences(y_tr) \n",
    "y_val_seq   =   y_tokenizer.texts_to_sequences(y_val) \n",
    "\n",
    "#padding zero upto maximum length\n",
    "y_tr    =   pad_sequences(y_tr_seq, maxlen=max_summary_len, padding='post')\n",
    "y_val   =   pad_sequences(y_val_seq, maxlen=max_summary_len, padding='post')\n",
    "\n",
    "#size of vocabulary\n",
    "y_voc  =   y_tokenizer.num_words +1\n",
    "print(\"Size of vocabulary in Y = {}\".format(y_voc))"
   ]
  },
  {
   "cell_type": "code",
   "execution_count": 36,
   "metadata": {
    "scrolled": false
   },
   "outputs": [
    {
     "name": "stdout",
     "output_type": "stream",
     "text": [
      "Size of vocabulary from the w2v model = 26092\n",
      "WARNING:tensorflow:From /Users/willcrawford/opt/anaconda3/envs/deep_learning/lib/python3.7/site-packages/tensorflow_core/python/keras/initializers.py:119: calling RandomUniform.__init__ (from tensorflow.python.ops.init_ops) with dtype is deprecated and will be removed in a future version.\n",
      "Instructions for updating:\n",
      "Call initializer instance with the dtype argument instead of passing it to the constructor\n",
      "WARNING:tensorflow:From /Users/willcrawford/opt/anaconda3/envs/deep_learning/lib/python3.7/site-packages/tensorflow_core/python/ops/resource_variable_ops.py:1630: calling BaseResourceVariable.__init__ (from tensorflow.python.ops.resource_variable_ops) with constraint is deprecated and will be removed in a future version.\n",
      "Instructions for updating:\n",
      "If using Keras pass *_constraint arguments to layers.\n",
      "Model: \"model\"\n",
      "__________________________________________________________________________________________________\n",
      "Layer (type)                    Output Shape         Param #     Connected to                     \n",
      "==================================================================================================\n",
      "input_1 (InputLayer)            [(None, 100)]        0                                            \n",
      "__________________________________________________________________________________________________\n",
      "embedding (Embedding)           (None, 100, 200)     5218400     input_1[0][0]                    \n",
      "__________________________________________________________________________________________________\n",
      "lstm (LSTM)                     [(None, 100, 300), ( 601200      embedding[0][0]                  \n",
      "__________________________________________________________________________________________________\n",
      "input_2 (InputLayer)            [(None, None)]       0                                            \n",
      "__________________________________________________________________________________________________\n",
      "lstm_1 (LSTM)                   [(None, 100, 300), ( 721200      lstm[0][0]                       \n",
      "__________________________________________________________________________________________________\n",
      "embedding_1 (Embedding)         (None, None, 200)    2840600     input_2[0][0]                    \n",
      "__________________________________________________________________________________________________\n",
      "lstm_2 (LSTM)                   [(None, 100, 300), ( 721200      lstm_1[0][0]                     \n",
      "__________________________________________________________________________________________________\n",
      "lstm_3 (LSTM)                   [(None, None, 300),  601200      embedding_1[0][0]                \n",
      "                                                                 lstm_2[0][1]                     \n",
      "                                                                 lstm_2[0][2]                     \n",
      "__________________________________________________________________________________________________\n",
      "time_distributed (TimeDistribut (None, None, 14203)  4275103     lstm_3[0][0]                     \n",
      "==================================================================================================\n",
      "Total params: 14,978,903\n",
      "Trainable params: 14,978,903\n",
      "Non-trainable params: 0\n",
      "__________________________________________________________________________________________________\n"
     ]
    }
   ],
   "source": [
    "from keras import backend as K \n",
    "import gensim\n",
    "from numpy import *\n",
    "import numpy as np\n",
    "import pandas as pd \n",
    "import re\n",
    "from keras.preprocessing.text import Tokenizer \n",
    "from keras.preprocessing.sequence import pad_sequences\n",
    "from nltk.corpus import stopwords\n",
    "from tensorflow.keras.layers import Input, LSTM, Embedding, Dense, Concatenate, TimeDistributed\n",
    "from tensorflow.keras.models import Model\n",
    "from tensorflow.keras.callbacks import EarlyStopping\n",
    "import warnings\n",
    "pd.set_option(\"display.max_colwidth\", 200)\n",
    "warnings.filterwarnings(\"ignore\")\n",
    "\n",
    "print(\"Size of vocabulary from the w2v model = {}\".format(x_voc))\n",
    "\n",
    "K.clear_session()\n",
    "\n",
    "latent_dim = 300\n",
    "embedding_dim=200\n",
    "\n",
    "# Encoder\n",
    "encoder_inputs = Input(shape=(max_text_len,))\n",
    "\n",
    "#embedding layer\n",
    "enc_emb =  Embedding(x_voc, embedding_dim,trainable=True)(encoder_inputs)\n",
    "\n",
    "#encoder lstm 1\n",
    "encoder_lstm1 = LSTM(latent_dim,return_sequences=True,return_state=True,dropout=0.4,recurrent_dropout=0.4)\n",
    "encoder_output1, state_h1, state_c1 = encoder_lstm1(enc_emb)\n",
    "\n",
    "#encoder lstm 2\n",
    "encoder_lstm2 = LSTM(latent_dim,return_sequences=True,return_state=True,dropout=0.4,recurrent_dropout=0.4)\n",
    "encoder_output2, state_h2, state_c2 = encoder_lstm2(encoder_output1)\n",
    "\n",
    "#encoder lstm 3\n",
    "encoder_lstm3=LSTM(latent_dim, return_state=True, return_sequences=True,dropout=0.4,recurrent_dropout=0.4)\n",
    "encoder_outputs, state_h, state_c= encoder_lstm3(encoder_output2)\n",
    "\n",
    "# Set up the decoder, using `encoder_states` as initial state.\n",
    "decoder_inputs = Input(shape=(None,))\n",
    "\n",
    "#embedding layer\n",
    "dec_emb_layer = Embedding(y_voc, embedding_dim,trainable=True)\n",
    "dec_emb = dec_emb_layer(decoder_inputs)\n",
    "\n",
    "decoder_lstm = LSTM(latent_dim, return_sequences=True, return_state=True,dropout=0.4,recurrent_dropout=0.2)\n",
    "decoder_outputs,decoder_fwd_state, decoder_back_state = decoder_lstm(dec_emb,initial_state=[state_h, state_c])\n",
    "\n",
    "#dense layer\n",
    "decoder_dense =  TimeDistributed(Dense(y_voc, activation='softmax'))\n",
    "decoder_outputs = decoder_dense(decoder_outputs)\n",
    "\n",
    "# Define the model \n",
    "model = Model([encoder_inputs, decoder_inputs], decoder_outputs)\n",
    "\n",
    "model.summary()"
   ]
  },
  {
   "cell_type": "code",
   "execution_count": 37,
   "metadata": {},
   "outputs": [],
   "source": [
    "model.compile(optimizer='rmsprop', loss='sparse_categorical_crossentropy')"
   ]
  },
  {
   "cell_type": "code",
   "execution_count": 38,
   "metadata": {},
   "outputs": [],
   "source": [
    "es = EarlyStopping(monitor='val_loss', mode='min', verbose=1,patience=2)"
   ]
  },
  {
   "cell_type": "code",
   "execution_count": null,
   "metadata": {},
   "outputs": [
    {
     "name": "stdout",
     "output_type": "stream",
     "text": [
      "WARNING:tensorflow:From /Users/willcrawford/opt/anaconda3/envs/deep_learning/lib/python3.7/site-packages/tensorflow_core/python/ops/math_grad.py:1424: where (from tensorflow.python.ops.array_ops) is deprecated and will be removed in a future version.\n",
      "Instructions for updating:\n",
      "Use tf.where in 2.0, which has the same broadcast rule as np.where\n",
      "Train on 8285 samples, validate on 921 samples\n",
      "Epoch 1/50\n",
      " 256/8285 [..............................] - ETA: 24:40 - loss: 9.5575"
     ]
    }
   ],
   "source": [
    "history=model.fit([x_tr,y_tr[:,:-1]], y_tr.reshape(y_tr.shape[0],y_tr.shape[1], 1)[:,1:] ,epochs=50,callbacks=[es],batch_size=128, validation_data=([x_val,y_val[:,:-1]], y_val.reshape(y_val.shape[0],y_val.shape[1], 1)[:,1:]))"
   ]
  },
  {
   "cell_type": "code",
   "execution_count": null,
   "metadata": {},
   "outputs": [],
   "source": []
  }
 ],
 "metadata": {
  "kernelspec": {
   "display_name": "Python 3",
   "language": "python",
   "name": "python3"
  },
  "language_info": {
   "codemirror_mode": {
    "name": "ipython",
    "version": 3
   },
   "file_extension": ".py",
   "mimetype": "text/x-python",
   "name": "python",
   "nbconvert_exporter": "python",
   "pygments_lexer": "ipython3",
   "version": "3.7.4"
  }
 },
 "nbformat": 4,
 "nbformat_minor": 1
}
